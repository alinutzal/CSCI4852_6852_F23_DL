{
 "cells": [
  {
   "cell_type": "markdown",
   "id": "16e09e44-27cf-4209-b0d4-dba43582813b",
   "metadata": {},
   "source": [
    "## Lab Exercises"
   ]
  },
  {
   "cell_type": "markdown",
   "id": "36f8f955-1180-4720-b199-d0e7e4d37481",
   "metadata": {},
   "source": [
    "1. Modify the `train()` function such that the dataset is shuffled prior to each epoch. Do you see a difference -- Yes/No? Write an explanation for your observation. Do this for the linear regresion."
   ]
  },
  {
   "cell_type": "markdown",
   "id": "fcbd12e4-8e4a-4de8-b1bd-bb956c0eabb3",
   "metadata": {},
   "source": [
    "2. Update the training function such as it stops when loss in not changing significantly to replace the for loop with fixed number of epochs or iterations. Use a while loop and a thresold value."
   ]
  }
 ],
 "metadata": {
  "kernelspec": {
   "display_name": "DLTorch",
   "language": "python",
   "name": "dltorch"
  },
  "language_info": {
   "codemirror_mode": {
    "name": "ipython",
    "version": 3
   },
   "file_extension": ".py",
   "mimetype": "text/x-python",
   "name": "python",
   "nbconvert_exporter": "python",
   "pygments_lexer": "ipython3",
   "version": "3.9.15"
  }
 },
 "nbformat": 4,
 "nbformat_minor": 5
}
