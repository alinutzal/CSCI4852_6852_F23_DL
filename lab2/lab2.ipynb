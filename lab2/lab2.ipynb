{
 "cells": [
  {
   "cell_type": "markdown",
   "id": "f3d1d357-d6f8-4f04-bd3d-5f0043b6e81e",
   "metadata": {},
   "source": [
    "# CSCI 4852&6952 Deep Learning - Lab 2 Numpy"
   ]
  },
  {
   "cell_type": "code",
   "execution_count": null,
   "id": "48b931cf-c934-425d-871e-b97814d6510e",
   "metadata": {},
   "outputs": [],
   "source": [
    "import pandas as pd\n",
    "import numpy as np\n",
    "%matplotlib inline"
   ]
  },
  {
   "cell_type": "markdown",
   "id": "1f1c7e86-0046-491e-ab47-b8cccb837755",
   "metadata": {},
   "source": [
    "# Question 1\n",
    "Write a Python function that return the maximum from an array or list. Your function should test if the input list is empty."
   ]
  },
  {
   "cell_type": "code",
   "execution_count": 2,
   "id": "544b4652-b924-45b7-bf9b-381bb1326edc",
   "metadata": {},
   "outputs": [],
   "source": [
    "def mymax(array):\n",
    "    largest= max(array)\n",
    "    return largest"
   ]
  },
  {
   "cell_type": "markdown",
   "id": "9777bbca-739a-49ec-b228-b08faa9e2139",
   "metadata": {},
   "source": [
    "Test the max function on test = [10, 7, 4, 2, 6, 8, 11, 1]"
   ]
  },
  {
   "cell_type": "code",
   "execution_count": 3,
   "id": "80677c6b-48ed-4c4a-894d-5a73bd2fedf1",
   "metadata": {},
   "outputs": [
    {
     "data": {
      "text/plain": [
       "11"
      ]
     },
     "execution_count": 3,
     "metadata": {},
     "output_type": "execute_result"
    }
   ],
   "source": [
    "test = [10, 7, 4, 2, 6, 8, 11, 1]\n",
    "mymax(test)"
   ]
  },
  {
   "cell_type": "markdown",
   "id": "c87bb554-6a8b-4932-8314-fe10c2f2e57b",
   "metadata": {},
   "source": [
    "# Question 2\n",
    "Given a string, write a python function to check if it is palindrome or not. A string is said to be a palindrome if the reverse of the string is the same as the string. For example, “radar” is a palindrome, but “radix” is not a palindrome."
   ]
  },
  {
   "cell_type": "code",
   "execution_count": null,
   "id": "86655f6d-8fba-4535-9186-ada00c16cd5d",
   "metadata": {},
   "outputs": [],
   "source": [
    "# function which return reverse of a string\n",
    " def isPalindrome(s):\n",
    "    ...\n",
    " \n",
    " \n",
    "# Driver code\n",
    "s = \"malayalam\"\n",
    "ans = isPalindrome(s)\n",
    " \n",
    "if ans:\n",
    "    print(\"Yes\")\n",
    "else:\n",
    "    print(\"No\")"
   ]
  },
  {
   "cell_type": "markdown",
   "id": "cb7662b7-5317-4aa1-9ea4-1bd5c10757ff",
   "metadata": {},
   "source": [
    "# Question 3\n",
    "Write Python code to multiply two matrices 3x3.\n",
    "Using Numpy : Multiplication using Numpy also know as vectorization which main aim to reduce or remove the explicit use of for loops in the program by which computation becomes faster. \n",
    "Numpy is a build in a package in python for array-processing and manipulation.For larger matrix operations we use numpy python package which is 1000 times faster than iterative one method. "
   ]
  },
  {
   "cell_type": "code",
   "execution_count": null,
   "id": "f483231a-44e4-4f84-b814-7217b7c46a2e",
   "metadata": {},
   "outputs": [],
   "source": [
    "import numpy as np\n",
    "mat1 = np.array([[4,2,7], [2,5,9], [7,0,9]])\n",
    "mat2 = np.array([[7,2,4], [9,5,1], [3,1,9]])\n",
    "\n",
    "# This will return dot product\n",
    "res = ...\n",
    " \n",
    "# print resulted matrix\n",
    "print(res)"
   ]
  },
  {
   "cell_type": "markdown",
   "id": "aa45f7b5-d242-40d1-8a07-810df1aba5f7",
   "metadata": {},
   "source": [
    "# Question 4\n",
    "Compute and print the transpose of the resulting matix from question 3."
   ]
  },
  {
   "cell_type": "code",
   "execution_count": null,
   "id": "967f7854-b81d-4d10-a0ed-816fa94b9e70",
   "metadata": {},
   "outputs": [],
   "source": [
    "print(res)\n",
    "..."
   ]
  },
  {
   "cell_type": "markdown",
   "id": "4c8a29fa-49ec-414b-842d-fe3d3dff2ffc",
   "metadata": {},
   "source": [
    "# Question 5\n",
    "Plot the function 3*sin(x) + cos(x) + 0.5. Change the color of the plot to black."
   ]
  },
  {
   "cell_type": "code",
   "execution_count": null,
   "id": "ebdda4f5-356a-4fc4-85f4-fab405d5c459",
   "metadata": {},
   "outputs": [],
   "source": [
    "import matplotlib.pyplot as plt\n",
    "%matplotlib inline"
   ]
  },
  {
   "cell_type": "code",
   "execution_count": null,
   "id": "70d629f3-71ff-43cc-9aba-40a7ae8ec491",
   "metadata": {},
   "outputs": [],
   "source": [
    "# Compute the x and y coordinates for points on a sine curve\n",
    "x = np.arange(0, 3 * np.pi, 0.1)\n",
    "... \n",
    "\n",
    "# Plot the points using matplotlib\n",
    "plt.plot(...)"
   ]
  }
 ],
 "metadata": {
  "kernelspec": {
   "display_name": "Python 3",
   "language": "python",
   "name": "python3"
  },
  "language_info": {
   "codemirror_mode": {
    "name": "ipython",
    "version": 3
   },
   "file_extension": ".py",
   "mimetype": "text/x-python",
   "name": "python",
   "nbconvert_exporter": "python",
   "pygments_lexer": "ipython3",
   "version": "3.6.8"
  }
 },
 "nbformat": 4,
 "nbformat_minor": 5
}
