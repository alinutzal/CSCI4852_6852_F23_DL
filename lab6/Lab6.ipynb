{
 "cells": [
  {
   "cell_type": "markdown",
   "id": "9d6ef774-f275-48c1-89ed-a3446843cab9",
   "metadata": {},
   "source": [
    "CSCI 4852 & 6952: Deep Learning (Spring 2023)  \n",
    "\n",
    "Instructor: Alina Lazar (alazar@ysu.edu)  \n",
    "GitHub repository:https://github.com/alinutzal/CSCI-xx52-Deep-Learning-"
   ]
  },
  {
   "cell_type": "markdown",
   "id": "10ef5986-f104-4821-8d1d-d6e81bf3d5ad",
   "metadata": {},
   "source": [
    "# Logistic Regression"
   ]
  },
  {
   "cell_type": "markdown",
   "id": "a998bf19-afe7-4442-a937-abef133c2fee",
   "metadata": {},
   "source": [
    "Implementation of *classic* logistic regression for binary class labels."
   ]
  },
  {
   "cell_type": "markdown",
   "id": "7a0c5583-467e-4359-93bd-fbde0aaaf2cc",
   "metadata": {},
   "source": [
    "With an understanding of the basics of PyTorch, you are ready to start building and training neural network models. In this activity, you will create a simple regression model that can predict a student''s grade based on the number of hours they have studied and slept the day before a test is given.\n",
    "\n",
    "The network you implement should have two input units (the two input dimensions are hours of study time and hours of sleep, as integers between 0-9), three hidden units, and one output unit (the predicted grade on a continuous scale between 0-1). Use a sigmoid function as the non-linear activation function in the hidden units. \n",
    "\n",
    "Hint: use the example in the logistic-regression.ipynb\n",
    "\n",
    "The table below contains the training data you should use (scale these values as necessary). Note the trend that is present: more sleep and more study time leads to a higher grade (it''s true!). This is the pattern that should be learned by the network if it is working correctly."
   ]
  },
  {
   "cell_type": "markdown",
   "id": "dae81127-9f96-42bb-b825-9ff66e88b959",
   "metadata": {},
   "source": [
    "|Number of Study Hours | Number of Sleep Hour | Grade |\n",
    "|----------------------|----------------------|-------|\n",
    "| 5                    | 9                    | 92    |\n",
    "| 4                    | 8                    | 91    |\n",
    "| 3                    | 6                    | 82    |\n",
    "| 5                    | 8                    | 95    |\n",
    "| 1                    | 4                    | 74    |\n",
    "| 2                    | 6                    | 75    |\n",
    "| 8                    | 8                    | 96    |\n",
    "| 7                    | 8                    | 94    |\n",
    "| 2                    | 5                    | 80    |\n",
    "| 6                    | 9                    | 91    |"
   ]
  },
  {
   "cell_type": "markdown",
   "id": "fc338b78-2d65-4e96-ad73-6a2b53d976ab",
   "metadata": {},
   "source": [
    "Train your network for 100 epochs using a mean sum squared loss function. Your training code should incrementally print the loss value as training proceeds. What is the value of the loss in the final epoch? Record this value in a separate cell in your Jupyter notebook file as part of your answer.\n",
    "\n",
    "Now it's time to test the network. Produce predictions of test performance based on the following sequence of study and sleep hours. Your prediction code should print each test instance out to the terminal. Record each prediction in a separate cell in your Jupyter notebook file as part of your answer."
   ]
  },
  {
   "cell_type": "markdown",
   "id": "bd52a929-498d-4adf-ae8e-e50f84c4f4b7",
   "metadata": {},
   "source": [
    "|Number of Study Hours|Number of Sleep Hours|\n",
    "|---------------------|---------------------|\n",
    "| 3                   | 9                   |\n",
    "| 1                   | 3                   |\n",
    "| 7                   | 7                   |\n",
    "| 4                   | 5                   |\n",
    "| 8                   | 9                   |"
   ]
  }
 ],
 "metadata": {
  "kernelspec": {
   "display_name": "Torch",
   "language": "python",
   "name": "torch"
  },
  "language_info": {
   "codemirror_mode": {
    "name": "ipython",
    "version": 3
   },
   "file_extension": ".py",
   "mimetype": "text/x-python",
   "name": "python",
   "nbconvert_exporter": "python",
   "pygments_lexer": "ipython3",
   "version": "3.10.12"
  }
 },
 "nbformat": 4,
 "nbformat_minor": 5
}
